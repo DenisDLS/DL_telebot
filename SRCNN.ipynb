{
  "nbformat": 4,
  "nbformat_minor": 0,
  "metadata": {
    "colab": {
      "name": "SRCNN",
      "provenance": []
    },
    "kernelspec": {
      "name": "python3",
      "display_name": "Python 3"
    },
    "language_info": {
      "name": "python"
    }
  },
  "cells": [
    {
      "cell_type": "code",
      "execution_count": null,
      "metadata": {
        "id": "7AwB9fwfWNx9"
      },
      "outputs": [],
      "source": [
        "import torch.nn as nn\n",
        "import torch.nn.functional as F\n",
        "class SRCNN(nn.Module):\n",
        "    def __init__(self):\n",
        "        super(SRCNN, self).__init__()\n",
        "        self.conv1 = nn.Conv2d(1, 128, kernel_size=9, padding=2, padding_mode='replicate') # padding mode same as original Caffe code\n",
        "        self.conv2 = nn.Conv2d(128, 64, kernel_size=1, padding=2, padding_mode='replicate')\n",
        "        self.conv3 = nn.Conv2d(64, 1, kernel_size=5, padding=2, padding_mode='replicate')\n",
        "    def forward(self, x):\n",
        "        x = F.relu(self.conv1(x))\n",
        "        x = F.relu(self.conv2(x))\n",
        "        x = self.conv3(x)\n",
        "        return x"
      ]
    },
    {
      "cell_type": "code",
      "source": [
        "import torch\n",
        "import matplotlib\n",
        "import matplotlib.pyplot as plt\n",
        "import time\n",
        "import h5py\n",
        "import torch.optim as optim\n",
        "import torch.nn as nn\n",
        "import numpy as np\n",
        "import math\n",
        "from torch.utils.data import DataLoader, Dataset\n",
        "from tqdm import tqdm\n",
        "from sklearn.model_selection import train_test_split\n",
        "from torchvision.utils import save_image\n",
        "matplotlib.style.use('ggplot')"
      ],
      "metadata": {
        "id": "tGKSjRJI-V8x"
      },
      "execution_count": null,
      "outputs": []
    },
    {
      "cell_type": "code",
      "source": [
        "# learning parameters\n",
        "batch_size = 64 # batch size, reduce if facing OOM error\n",
        "epochs = 100 # number of epochs to train the SRCNN model for\n",
        "lr = 0.001 # the learning rate\n",
        "device = 'cuda' if torch.cuda.is_available() else 'cpu'"
      ],
      "metadata": {
        "id": "JSNgYevr-aDK"
      },
      "execution_count": null,
      "outputs": []
    },
    {
      "cell_type": "code",
      "source": [
        "img_rows, img_cols = 33, 33\n",
        "out_rows, out_cols = 33, 33"
      ],
      "metadata": {
        "id": "4lwRpLDK-dP-"
      },
      "execution_count": null,
      "outputs": []
    },
    {
      "cell_type": "code",
      "source": [
        "file = h5py.File('/content/drive/MyDrive/input/train_mscale.h5')\n",
        "# `in_train` has shape (21884, 33, 33, 1) which corresponds to\n",
        "# 21884 image patches of 33 pixels height & width and 1 color channel\n",
        "in_train = file['data'][:] # the training data\n",
        "out_train = file['label'][:] # the training labels\n",
        "file.close()\n",
        "# change the values to float32\n",
        "in_train = in_train.astype('float32')\n",
        "out_train = out_train.astype('float32')"
      ],
      "metadata": {
        "id": "B-bKvev_-iTX"
      },
      "execution_count": null,
      "outputs": []
    },
    {
      "cell_type": "code",
      "source": [
        "(x_train, x_val, y_train, y_val) = train_test_split(in_train, out_train, test_size=0.25)\n",
        "print('Training samples: ', x_train.shape[0])\n",
        "print('Validation samples: ', x_val.shape[0])"
      ],
      "metadata": {
        "id": "a-CV-U1j-oMm",
        "colab": {
          "base_uri": "https://localhost:8080/"
        },
        "outputId": "5a83b06c-b787-4473-d198-245d3df98165"
      },
      "execution_count": null,
      "outputs": [
        {
          "output_type": "stream",
          "name": "stdout",
          "text": [
            "Training samples:  16368\n",
            "Validation samples:  5456\n"
          ]
        }
      ]
    },
    {
      "cell_type": "code",
      "source": [
        "class SRCNNDataset(Dataset):\n",
        "    def __init__(self, image_data, labels):\n",
        "        self.image_data = image_data\n",
        "        self.labels = labels\n",
        "    def __len__(self):\n",
        "        return (len(self.image_data))\n",
        "    def __getitem__(self, index):\n",
        "        image = self.image_data[index]\n",
        "        label = self.labels[index]\n",
        "        return (\n",
        "            torch.tensor(image, dtype=torch.float),\n",
        "            torch.tensor(label, dtype=torch.float)\n",
        "        )"
      ],
      "metadata": {
        "id": "UdOlcsfx-o6Q"
      },
      "execution_count": null,
      "outputs": []
    },
    {
      "cell_type": "code",
      "source": [
        "train_data = SRCNNDataset(x_train, y_train)\n",
        "val_data = SRCNNDataset(x_val, y_val)\n",
        "# train and validation loaders\n",
        "train_loader = DataLoader(train_data, batch_size=batch_size)\n",
        "val_loader = DataLoader(val_data, batch_size=batch_size)"
      ],
      "metadata": {
        "id": "FZhw3RUm-xKd"
      },
      "execution_count": null,
      "outputs": []
    },
    {
      "cell_type": "code",
      "source": [
        "print('Computation device: ', device)\n",
        "model = SRCNN().to(device)\n",
        "print(model)"
      ],
      "metadata": {
        "id": "GddZuqwz-5Wd",
        "colab": {
          "base_uri": "https://localhost:8080/"
        },
        "outputId": "7b15da4e-cd95-4d9d-edc5-db62f95825ef"
      },
      "execution_count": null,
      "outputs": [
        {
          "output_type": "stream",
          "name": "stdout",
          "text": [
            "Computation device:  cpu\n",
            "SRCNN(\n",
            "  (conv1): Conv2d(1, 128, kernel_size=(9, 9), stride=(1, 1), padding=(2, 2), padding_mode=replicate)\n",
            "  (conv2): Conv2d(128, 64, kernel_size=(1, 1), stride=(1, 1), padding=(2, 2), padding_mode=replicate)\n",
            "  (conv3): Conv2d(64, 1, kernel_size=(5, 5), stride=(1, 1), padding=(2, 2), padding_mode=replicate)\n",
            ")\n"
          ]
        }
      ]
    },
    {
      "cell_type": "code",
      "source": [
        "# optimizer\n",
        "optimizer = optim.Adam(model.parameters(), lr=lr)\n",
        "# loss function \n",
        "criterion = nn.MSELoss()"
      ],
      "metadata": {
        "id": "w3ia1Y1i-7iC"
      },
      "execution_count": null,
      "outputs": []
    },
    {
      "cell_type": "code",
      "source": [
        "def psnr(label, outputs, max_val=1.):\n",
        "    \"\"\"\n",
        "    Compute Peak Signal to Noise Ratio (the higher the better).\n",
        "    PSNR = 20 * log10(MAXp) - 10 * log10(MSE).\n",
        "    https://en.wikipedia.org/wiki/Peak_signal-to-noise_ratio#Definition\n",
        "    First we need to convert torch tensors to NumPy operable.\n",
        "    \"\"\"\n",
        "    label = label.cpu().detach().numpy()\n",
        "    outputs = outputs.cpu().detach().numpy()\n",
        "    img_diff = outputs - label\n",
        "    rmse = math.sqrt(np.mean((img_diff) ** 2))\n",
        "    if rmse == 0:\n",
        "        return 100\n",
        "    else:\n",
        "        PSNR = 20 * math.log10(max_val / rmse)\n",
        "        return PSNR"
      ],
      "metadata": {
        "id": "ClaSLEiv--Gu"
      },
      "execution_count": null,
      "outputs": []
    },
    {
      "cell_type": "code",
      "source": [
        "def train(model, dataloader):\n",
        "    model.train()\n",
        "    running_loss = 0.0\n",
        "    running_psnr = 0.0\n",
        "    for bi, data in tqdm(enumerate(dataloader), total=int(len(train_data)/dataloader.batch_size)):\n",
        "        image_data = data[0].to(device)\n",
        "        label = data[1].to(device)\n",
        "        \n",
        "        # zero grad the optimizer\n",
        "        optimizer.zero_grad()\n",
        "        outputs = model(image_data)\n",
        "        loss = criterion(outputs, label)\n",
        "        # backpropagation\n",
        "        loss.backward()\n",
        "        # update the parameters\n",
        "        optimizer.step()\n",
        "        # add loss of each item (total items in a batch = batch size)\n",
        "        running_loss += loss.item()\n",
        "        # calculate batch psnr (once every `batch_size` iterations)\n",
        "        batch_psnr =  psnr(label, outputs)\n",
        "        running_psnr += batch_psnr\n",
        "    final_loss = running_loss/len(dataloader.dataset)\n",
        "    final_psnr = running_psnr/int(len(train_data)/dataloader.batch_size)\n",
        "    return final_loss, final_psnr"
      ],
      "metadata": {
        "id": "X2yQ5Qxh_BBk"
      },
      "execution_count": null,
      "outputs": []
    },
    {
      "cell_type": "code",
      "source": [
        "def validate(model, dataloader, epoch):\n",
        "    model.eval()\n",
        "    running_loss = 0.0\n",
        "    running_psnr = 0.0\n",
        "    with torch.no_grad():\n",
        "        for bi, data in tqdm(enumerate(dataloader), total=int(len(val_data)/dataloader.batch_size)):\n",
        "            image_data = data[0].to(device)\n",
        "            label = data[1].to(device)\n",
        "            \n",
        "            outputs = model(image_data)\n",
        "            loss = criterion(outputs, label)\n",
        "            # add loss of each item (total items in a batch = batch size) \n",
        "            running_loss += loss.item()\n",
        "            # calculate batch psnr (once every `batch_size` iterations)\n",
        "            batch_psnr = psnr(label, outputs)\n",
        "            running_psnr += batch_psnr\n",
        "        outputs = outputs.cpu()\n",
        "        #save_image(outputs, f\"../outputs/val_sr{epoch}.png\")\n",
        "    final_loss = running_loss/len(dataloader.dataset)\n",
        "    final_psnr = running_psnr/int(len(val_data)/dataloader.batch_size)\n",
        "    return final_loss, final_psnr"
      ],
      "metadata": {
        "id": "o1l9-ooN_DoV"
      },
      "execution_count": null,
      "outputs": []
    },
    {
      "cell_type": "code",
      "source": [
        "train_loss, val_loss = [], []\n",
        "train_psnr, val_psnr = [], []\n",
        "start = time.time()\n",
        "for epoch in range(epochs):#epochs\n",
        "    print(f\"Epoch {epoch + 1} of {epochs}\")\n",
        "    train_epoch_loss, train_epoch_psnr = train(model, train_loader)\n",
        "    val_epoch_loss, val_epoch_psnr = validate(model, val_loader, epoch)\n",
        "    print(f\"Train PSNR: {train_epoch_psnr:.3f}\")\n",
        "    print(f\"Val PSNR: {val_epoch_psnr:.3f}\")\n",
        "    train_loss.append(train_epoch_loss)\n",
        "    train_psnr.append(train_epoch_psnr)\n",
        "    val_loss.append(val_epoch_loss)\n",
        "    val_psnr.append(val_epoch_psnr)\n",
        "end = time.time()\n",
        "print(f\"Finished training in: {((end-start)/60):.3f} minutes\")"
      ],
      "metadata": {
        "id": "TdZbn-uZ_GqQ",
        "colab": {
          "base_uri": "https://localhost:8080/"
        },
        "outputId": "ddbf14bf-0a47-41aa-fb09-fea94d7089d1"
      },
      "execution_count": null,
      "outputs": [
        {
          "output_type": "stream",
          "name": "stdout",
          "text": [
            "Epoch 1 of 100\n"
          ]
        },
        {
          "output_type": "stream",
          "name": "stderr",
          "text": [
            "256it [02:45,  1.55it/s]\n",
            "86it [00:16,  5.25it/s]                        \n"
          ]
        },
        {
          "output_type": "stream",
          "name": "stdout",
          "text": [
            "Train PSNR: 24.880\n",
            "Val PSNR: 26.825\n",
            "Epoch 2 of 100\n"
          ]
        },
        {
          "output_type": "stream",
          "name": "stderr",
          "text": [
            "256it [02:40,  1.59it/s]\n",
            "86it [00:16,  5.14it/s]                        \n"
          ]
        },
        {
          "output_type": "stream",
          "name": "stdout",
          "text": [
            "Train PSNR: 26.767\n",
            "Val PSNR: 27.234\n",
            "Epoch 3 of 100\n"
          ]
        },
        {
          "output_type": "stream",
          "name": "stderr",
          "text": [
            "256it [02:40,  1.59it/s]\n",
            "86it [00:16,  5.13it/s]                        \n"
          ]
        },
        {
          "output_type": "stream",
          "name": "stdout",
          "text": [
            "Train PSNR: 26.998\n",
            "Val PSNR: 27.407\n",
            "Epoch 4 of 100\n"
          ]
        },
        {
          "output_type": "stream",
          "name": "stderr",
          "text": [
            "256it [02:40,  1.60it/s]\n",
            "86it [00:16,  5.08it/s]                        \n"
          ]
        },
        {
          "output_type": "stream",
          "name": "stdout",
          "text": [
            "Train PSNR: 27.132\n",
            "Val PSNR: 27.428\n",
            "Epoch 5 of 100\n"
          ]
        },
        {
          "output_type": "stream",
          "name": "stderr",
          "text": [
            "256it [02:41,  1.58it/s]\n",
            "86it [00:16,  5.18it/s]                        \n"
          ]
        },
        {
          "output_type": "stream",
          "name": "stdout",
          "text": [
            "Train PSNR: 27.207\n",
            "Val PSNR: 27.525\n",
            "Epoch 6 of 100\n"
          ]
        },
        {
          "output_type": "stream",
          "name": "stderr",
          "text": [
            "256it [02:42,  1.58it/s]\n",
            "86it [00:16,  5.11it/s]                        \n"
          ]
        },
        {
          "output_type": "stream",
          "name": "stdout",
          "text": [
            "Train PSNR: 27.249\n",
            "Val PSNR: 27.618\n",
            "Epoch 7 of 100\n"
          ]
        },
        {
          "output_type": "stream",
          "name": "stderr",
          "text": [
            "256it [02:41,  1.59it/s]\n",
            "86it [00:16,  5.18it/s]                        \n"
          ]
        },
        {
          "output_type": "stream",
          "name": "stdout",
          "text": [
            "Train PSNR: 27.282\n",
            "Val PSNR: 27.669\n",
            "Epoch 8 of 100\n"
          ]
        },
        {
          "output_type": "stream",
          "name": "stderr",
          "text": [
            "256it [02:41,  1.59it/s]\n",
            "86it [00:17,  5.05it/s]                        \n"
          ]
        },
        {
          "output_type": "stream",
          "name": "stdout",
          "text": [
            "Train PSNR: 27.319\n",
            "Val PSNR: 27.707\n",
            "Epoch 9 of 100\n"
          ]
        },
        {
          "output_type": "stream",
          "name": "stderr",
          "text": [
            "256it [02:42,  1.58it/s]\n",
            "86it [00:16,  5.19it/s]                        \n"
          ]
        },
        {
          "output_type": "stream",
          "name": "stdout",
          "text": [
            "Train PSNR: 27.351\n",
            "Val PSNR: 27.732\n",
            "Epoch 10 of 100\n"
          ]
        },
        {
          "output_type": "stream",
          "name": "stderr",
          "text": [
            "256it [02:42,  1.57it/s]\n",
            "86it [00:17,  5.01it/s]                        \n"
          ]
        },
        {
          "output_type": "stream",
          "name": "stdout",
          "text": [
            "Train PSNR: 27.379\n",
            "Val PSNR: 27.761\n",
            "Epoch 11 of 100\n"
          ]
        },
        {
          "output_type": "stream",
          "name": "stderr",
          "text": [
            "256it [02:41,  1.58it/s]\n",
            "86it [00:17,  5.05it/s]                        \n"
          ]
        },
        {
          "output_type": "stream",
          "name": "stdout",
          "text": [
            "Train PSNR: 27.402\n",
            "Val PSNR: 27.798\n",
            "Epoch 12 of 100\n"
          ]
        },
        {
          "output_type": "stream",
          "name": "stderr",
          "text": [
            "256it [02:41,  1.58it/s]\n",
            "86it [00:16,  5.13it/s]                        \n"
          ]
        },
        {
          "output_type": "stream",
          "name": "stdout",
          "text": [
            "Train PSNR: 27.429\n",
            "Val PSNR: 27.823\n",
            "Epoch 13 of 100\n"
          ]
        },
        {
          "output_type": "stream",
          "name": "stderr",
          "text": [
            "256it [02:41,  1.59it/s]\n",
            "86it [00:16,  5.11it/s]                        \n"
          ]
        },
        {
          "output_type": "stream",
          "name": "stdout",
          "text": [
            "Train PSNR: 27.461\n",
            "Val PSNR: 27.843\n",
            "Epoch 14 of 100\n"
          ]
        },
        {
          "output_type": "stream",
          "name": "stderr",
          "text": [
            "256it [02:43,  1.57it/s]\n",
            "86it [00:17,  4.96it/s]                        \n"
          ]
        },
        {
          "output_type": "stream",
          "name": "stdout",
          "text": [
            "Train PSNR: 27.486\n",
            "Val PSNR: 27.856\n",
            "Epoch 15 of 100\n"
          ]
        },
        {
          "output_type": "stream",
          "name": "stderr",
          "text": [
            "256it [02:42,  1.57it/s]\n",
            "86it [00:17,  4.94it/s]                        \n"
          ]
        },
        {
          "output_type": "stream",
          "name": "stdout",
          "text": [
            "Train PSNR: 27.504\n",
            "Val PSNR: 27.806\n",
            "Epoch 16 of 100\n"
          ]
        },
        {
          "output_type": "stream",
          "name": "stderr",
          "text": [
            "256it [02:44,  1.56it/s]\n",
            "86it [00:17,  4.88it/s]                        \n"
          ]
        },
        {
          "output_type": "stream",
          "name": "stdout",
          "text": [
            "Train PSNR: 27.541\n",
            "Val PSNR: 27.870\n",
            "Epoch 17 of 100\n"
          ]
        },
        {
          "output_type": "stream",
          "name": "stderr",
          "text": [
            "256it [02:43,  1.57it/s]\n",
            "86it [00:16,  5.12it/s]                        \n"
          ]
        },
        {
          "output_type": "stream",
          "name": "stdout",
          "text": [
            "Train PSNR: 27.566\n",
            "Val PSNR: 27.919\n",
            "Epoch 18 of 100\n"
          ]
        },
        {
          "output_type": "stream",
          "name": "stderr",
          "text": [
            "256it [02:41,  1.59it/s]\n",
            "86it [00:16,  5.09it/s]                        \n"
          ]
        },
        {
          "output_type": "stream",
          "name": "stdout",
          "text": [
            "Train PSNR: 27.583\n",
            "Val PSNR: 27.960\n",
            "Epoch 19 of 100\n"
          ]
        },
        {
          "output_type": "stream",
          "name": "stderr",
          "text": [
            "256it [02:42,  1.58it/s]\n",
            "86it [00:16,  5.10it/s]                        \n"
          ]
        },
        {
          "output_type": "stream",
          "name": "stdout",
          "text": [
            "Train PSNR: 27.608\n",
            "Val PSNR: 27.977\n",
            "Epoch 20 of 100\n"
          ]
        },
        {
          "output_type": "stream",
          "name": "stderr",
          "text": [
            "256it [02:43,  1.57it/s]\n",
            "86it [00:17,  4.95it/s]                        \n"
          ]
        },
        {
          "output_type": "stream",
          "name": "stdout",
          "text": [
            "Train PSNR: 27.597\n",
            "Val PSNR: 27.984\n",
            "Epoch 21 of 100\n"
          ]
        },
        {
          "output_type": "stream",
          "name": "stderr",
          "text": [
            "256it [02:41,  1.58it/s]\n",
            "86it [00:17,  5.04it/s]                        \n"
          ]
        },
        {
          "output_type": "stream",
          "name": "stdout",
          "text": [
            "Train PSNR: 27.654\n",
            "Val PSNR: 28.022\n",
            "Epoch 22 of 100\n"
          ]
        },
        {
          "output_type": "stream",
          "name": "stderr",
          "text": [
            "256it [02:42,  1.57it/s]\n",
            "86it [00:17,  4.99it/s]                        \n"
          ]
        },
        {
          "output_type": "stream",
          "name": "stdout",
          "text": [
            "Train PSNR: 27.644\n",
            "Val PSNR: 28.017\n",
            "Epoch 23 of 100\n"
          ]
        },
        {
          "output_type": "stream",
          "name": "stderr",
          "text": [
            "256it [02:42,  1.58it/s]\n",
            "86it [00:17,  4.95it/s]                        \n"
          ]
        },
        {
          "output_type": "stream",
          "name": "stdout",
          "text": [
            "Train PSNR: 27.688\n",
            "Val PSNR: 28.053\n",
            "Epoch 24 of 100\n"
          ]
        },
        {
          "output_type": "stream",
          "name": "stderr",
          "text": [
            "256it [02:43,  1.57it/s]\n",
            "86it [00:17,  4.91it/s]                        \n"
          ]
        },
        {
          "output_type": "stream",
          "name": "stdout",
          "text": [
            "Train PSNR: 27.689\n",
            "Val PSNR: 28.065\n",
            "Epoch 25 of 100\n"
          ]
        },
        {
          "output_type": "stream",
          "name": "stderr",
          "text": [
            "256it [02:43,  1.56it/s]\n",
            "86it [00:17,  4.93it/s]                        \n"
          ]
        },
        {
          "output_type": "stream",
          "name": "stdout",
          "text": [
            "Train PSNR: 27.713\n",
            "Val PSNR: 28.098\n",
            "Epoch 26 of 100\n"
          ]
        },
        {
          "output_type": "stream",
          "name": "stderr",
          "text": [
            "256it [02:40,  1.59it/s]\n",
            "86it [00:17,  5.03it/s]                        \n"
          ]
        },
        {
          "output_type": "stream",
          "name": "stdout",
          "text": [
            "Train PSNR: 27.655\n",
            "Val PSNR: 27.962\n",
            "Epoch 27 of 100\n"
          ]
        },
        {
          "output_type": "stream",
          "name": "stderr",
          "text": [
            "256it [02:40,  1.59it/s]\n",
            "86it [00:16,  5.10it/s]                        \n"
          ]
        },
        {
          "output_type": "stream",
          "name": "stdout",
          "text": [
            "Train PSNR: 27.722\n",
            "Val PSNR: 28.005\n",
            "Epoch 28 of 100\n"
          ]
        },
        {
          "output_type": "stream",
          "name": "stderr",
          "text": [
            "256it [02:41,  1.59it/s]\n",
            "86it [00:16,  5.10it/s]                        \n"
          ]
        },
        {
          "output_type": "stream",
          "name": "stdout",
          "text": [
            "Train PSNR: 27.699\n",
            "Val PSNR: 27.983\n",
            "Epoch 29 of 100\n"
          ]
        },
        {
          "output_type": "stream",
          "name": "stderr",
          "text": [
            "256it [02:40,  1.60it/s]\n",
            "86it [00:17,  5.05it/s]                        \n"
          ]
        },
        {
          "output_type": "stream",
          "name": "stdout",
          "text": [
            "Train PSNR: 27.789\n",
            "Val PSNR: 28.135\n",
            "Epoch 30 of 100\n"
          ]
        },
        {
          "output_type": "stream",
          "name": "stderr",
          "text": [
            "256it [02:41,  1.59it/s]\n",
            "86it [00:16,  5.15it/s]                        \n"
          ]
        },
        {
          "output_type": "stream",
          "name": "stdout",
          "text": [
            "Train PSNR: 27.737\n",
            "Val PSNR: 28.086\n",
            "Epoch 31 of 100\n"
          ]
        },
        {
          "output_type": "stream",
          "name": "stderr",
          "text": [
            "256it [02:40,  1.59it/s]\n",
            "86it [00:16,  5.08it/s]                        \n"
          ]
        },
        {
          "output_type": "stream",
          "name": "stdout",
          "text": [
            "Train PSNR: 27.775\n",
            "Val PSNR: 28.089\n",
            "Epoch 32 of 100\n"
          ]
        },
        {
          "output_type": "stream",
          "name": "stderr",
          "text": [
            "256it [02:41,  1.58it/s]\n",
            "86it [00:16,  5.10it/s]                        \n"
          ]
        },
        {
          "output_type": "stream",
          "name": "stdout",
          "text": [
            "Train PSNR: 27.790\n",
            "Val PSNR: 28.067\n",
            "Epoch 33 of 100\n"
          ]
        },
        {
          "output_type": "stream",
          "name": "stderr",
          "text": [
            "256it [02:40,  1.60it/s]\n",
            "86it [00:16,  5.09it/s]                        \n"
          ]
        },
        {
          "output_type": "stream",
          "name": "stdout",
          "text": [
            "Train PSNR: 27.850\n",
            "Val PSNR: 28.178\n",
            "Epoch 34 of 100\n"
          ]
        },
        {
          "output_type": "stream",
          "name": "stderr",
          "text": [
            "256it [02:39,  1.60it/s]\n",
            "86it [00:16,  5.16it/s]                        \n"
          ]
        },
        {
          "output_type": "stream",
          "name": "stdout",
          "text": [
            "Train PSNR: 27.818\n",
            "Val PSNR: 28.121\n",
            "Epoch 35 of 100\n"
          ]
        },
        {
          "output_type": "stream",
          "name": "stderr",
          "text": [
            "256it [02:39,  1.61it/s]\n",
            "86it [00:16,  5.14it/s]                        \n"
          ]
        },
        {
          "output_type": "stream",
          "name": "stdout",
          "text": [
            "Train PSNR: 27.864\n",
            "Val PSNR: 28.148\n",
            "Epoch 36 of 100\n"
          ]
        },
        {
          "output_type": "stream",
          "name": "stderr",
          "text": [
            "256it [02:40,  1.60it/s]\n",
            "86it [00:16,  5.10it/s]                        \n"
          ]
        },
        {
          "output_type": "stream",
          "name": "stdout",
          "text": [
            "Train PSNR: 27.876\n",
            "Val PSNR: 28.242\n",
            "Epoch 37 of 100\n"
          ]
        },
        {
          "output_type": "stream",
          "name": "stderr",
          "text": [
            "256it [02:40,  1.60it/s]\n",
            "86it [00:16,  5.08it/s]                        \n"
          ]
        },
        {
          "output_type": "stream",
          "name": "stdout",
          "text": [
            "Train PSNR: 27.891\n",
            "Val PSNR: 28.187\n",
            "Epoch 38 of 100\n"
          ]
        },
        {
          "output_type": "stream",
          "name": "stderr",
          "text": [
            "256it [02:40,  1.59it/s]\n",
            "86it [00:17,  5.05it/s]                        \n"
          ]
        },
        {
          "output_type": "stream",
          "name": "stdout",
          "text": [
            "Train PSNR: 27.878\n",
            "Val PSNR: 28.207\n",
            "Epoch 39 of 100\n"
          ]
        },
        {
          "output_type": "stream",
          "name": "stderr",
          "text": [
            "256it [02:41,  1.59it/s]\n",
            "86it [00:17,  5.03it/s]                        \n"
          ]
        },
        {
          "output_type": "stream",
          "name": "stdout",
          "text": [
            "Train PSNR: 27.867\n",
            "Val PSNR: 28.146\n",
            "Epoch 40 of 100\n"
          ]
        },
        {
          "output_type": "stream",
          "name": "stderr",
          "text": [
            "256it [02:41,  1.58it/s]\n",
            "86it [00:17,  5.03it/s]                        \n"
          ]
        },
        {
          "output_type": "stream",
          "name": "stdout",
          "text": [
            "Train PSNR: 27.924\n",
            "Val PSNR: 28.084\n",
            "Epoch 41 of 100\n"
          ]
        },
        {
          "output_type": "stream",
          "name": "stderr",
          "text": [
            "256it [02:41,  1.59it/s]\n",
            "86it [00:16,  5.09it/s]                        \n"
          ]
        },
        {
          "output_type": "stream",
          "name": "stdout",
          "text": [
            "Train PSNR: 27.874\n",
            "Val PSNR: 28.235\n",
            "Epoch 42 of 100\n"
          ]
        },
        {
          "output_type": "stream",
          "name": "stderr",
          "text": [
            "256it [02:40,  1.59it/s]\n",
            "86it [00:16,  5.15it/s]                        \n"
          ]
        },
        {
          "output_type": "stream",
          "name": "stdout",
          "text": [
            "Train PSNR: 27.946\n",
            "Val PSNR: 28.211\n",
            "Epoch 43 of 100\n"
          ]
        },
        {
          "output_type": "stream",
          "name": "stderr",
          "text": [
            "256it [02:40,  1.59it/s]\n",
            "86it [00:16,  5.10it/s]                        \n"
          ]
        },
        {
          "output_type": "stream",
          "name": "stdout",
          "text": [
            "Train PSNR: 27.947\n",
            "Val PSNR: 28.318\n",
            "Epoch 44 of 100\n"
          ]
        },
        {
          "output_type": "stream",
          "name": "stderr",
          "text": [
            "256it [02:40,  1.59it/s]\n",
            "86it [00:16,  5.09it/s]                        \n"
          ]
        },
        {
          "output_type": "stream",
          "name": "stdout",
          "text": [
            "Train PSNR: 27.976\n",
            "Val PSNR: 28.291\n",
            "Epoch 45 of 100\n"
          ]
        },
        {
          "output_type": "stream",
          "name": "stderr",
          "text": [
            "256it [02:42,  1.57it/s]\n",
            "86it [00:16,  5.13it/s]                        \n"
          ]
        },
        {
          "output_type": "stream",
          "name": "stdout",
          "text": [
            "Train PSNR: 27.995\n",
            "Val PSNR: 28.281\n",
            "Epoch 46 of 100\n"
          ]
        },
        {
          "output_type": "stream",
          "name": "stderr",
          "text": [
            "256it [02:40,  1.59it/s]\n",
            "86it [00:16,  5.07it/s]                        \n"
          ]
        },
        {
          "output_type": "stream",
          "name": "stdout",
          "text": [
            "Train PSNR: 27.969\n",
            "Val PSNR: 28.187\n",
            "Epoch 47 of 100\n"
          ]
        },
        {
          "output_type": "stream",
          "name": "stderr",
          "text": [
            "256it [02:41,  1.59it/s]\n",
            "86it [00:16,  5.07it/s]                        \n"
          ]
        },
        {
          "output_type": "stream",
          "name": "stdout",
          "text": [
            "Train PSNR: 28.008\n",
            "Val PSNR: 28.382\n",
            "Epoch 48 of 100\n"
          ]
        },
        {
          "output_type": "stream",
          "name": "stderr",
          "text": [
            "256it [02:41,  1.58it/s]\n",
            "86it [00:16,  5.14it/s]                        \n"
          ]
        },
        {
          "output_type": "stream",
          "name": "stdout",
          "text": [
            "Train PSNR: 27.899\n",
            "Val PSNR: 28.306\n",
            "Epoch 49 of 100\n"
          ]
        },
        {
          "output_type": "stream",
          "name": "stderr",
          "text": [
            "256it [02:41,  1.59it/s]\n",
            "86it [00:16,  5.13it/s]                        \n"
          ]
        },
        {
          "output_type": "stream",
          "name": "stdout",
          "text": [
            "Train PSNR: 28.021\n",
            "Val PSNR: 28.360\n",
            "Epoch 50 of 100\n"
          ]
        },
        {
          "output_type": "stream",
          "name": "stderr",
          "text": [
            "256it [02:42,  1.58it/s]\n",
            "86it [00:16,  5.15it/s]                        \n"
          ]
        },
        {
          "output_type": "stream",
          "name": "stdout",
          "text": [
            "Train PSNR: 28.034\n",
            "Val PSNR: 28.306\n",
            "Epoch 51 of 100\n"
          ]
        },
        {
          "output_type": "stream",
          "name": "stderr",
          "text": [
            "256it [02:40,  1.60it/s]\n",
            "86it [00:16,  5.17it/s]                        \n"
          ]
        },
        {
          "output_type": "stream",
          "name": "stdout",
          "text": [
            "Train PSNR: 28.023\n",
            "Val PSNR: 28.368\n",
            "Epoch 52 of 100\n"
          ]
        },
        {
          "output_type": "stream",
          "name": "stderr",
          "text": [
            "256it [02:40,  1.59it/s]\n",
            "86it [00:16,  5.19it/s]                        \n"
          ]
        },
        {
          "output_type": "stream",
          "name": "stdout",
          "text": [
            "Train PSNR: 28.056\n",
            "Val PSNR: 28.447\n",
            "Epoch 53 of 100\n"
          ]
        },
        {
          "output_type": "stream",
          "name": "stderr",
          "text": [
            "256it [02:42,  1.58it/s]\n",
            "86it [00:17,  4.91it/s]                        \n"
          ]
        },
        {
          "output_type": "stream",
          "name": "stdout",
          "text": [
            "Train PSNR: 28.026\n",
            "Val PSNR: 28.420\n",
            "Epoch 54 of 100\n"
          ]
        },
        {
          "output_type": "stream",
          "name": "stderr",
          "text": [
            "256it [02:43,  1.57it/s]\n",
            "86it [00:17,  4.92it/s]                        \n"
          ]
        },
        {
          "output_type": "stream",
          "name": "stdout",
          "text": [
            "Train PSNR: 28.073\n",
            "Val PSNR: 28.405\n",
            "Epoch 55 of 100\n"
          ]
        },
        {
          "output_type": "stream",
          "name": "stderr",
          "text": [
            "256it [02:43,  1.57it/s]\n",
            "86it [00:17,  4.90it/s]                        \n"
          ]
        },
        {
          "output_type": "stream",
          "name": "stdout",
          "text": [
            "Train PSNR: 28.072\n",
            "Val PSNR: 28.446\n",
            "Epoch 56 of 100\n"
          ]
        },
        {
          "output_type": "stream",
          "name": "stderr",
          "text": [
            "256it [02:42,  1.58it/s]\n",
            "86it [00:17,  4.88it/s]                        \n"
          ]
        },
        {
          "output_type": "stream",
          "name": "stdout",
          "text": [
            "Train PSNR: 28.068\n",
            "Val PSNR: 28.461\n",
            "Epoch 57 of 100\n"
          ]
        },
        {
          "output_type": "stream",
          "name": "stderr",
          "text": [
            "256it [02:42,  1.57it/s]\n",
            "86it [00:17,  4.85it/s]                        \n"
          ]
        },
        {
          "output_type": "stream",
          "name": "stdout",
          "text": [
            "Train PSNR: 28.046\n",
            "Val PSNR: 28.336\n",
            "Epoch 58 of 100\n"
          ]
        },
        {
          "output_type": "stream",
          "name": "stderr",
          "text": [
            "256it [02:44,  1.56it/s]\n",
            "86it [00:17,  4.83it/s]                        \n"
          ]
        },
        {
          "output_type": "stream",
          "name": "stdout",
          "text": [
            "Train PSNR: 28.088\n",
            "Val PSNR: 28.435\n",
            "Epoch 59 of 100\n"
          ]
        },
        {
          "output_type": "stream",
          "name": "stderr",
          "text": [
            "256it [02:43,  1.57it/s]\n",
            "86it [00:17,  4.89it/s]                        \n"
          ]
        },
        {
          "output_type": "stream",
          "name": "stdout",
          "text": [
            "Train PSNR: 27.877\n",
            "Val PSNR: 28.121\n",
            "Epoch 60 of 100\n"
          ]
        },
        {
          "output_type": "stream",
          "name": "stderr",
          "text": [
            "256it [02:43,  1.56it/s]\n",
            "86it [00:17,  4.89it/s]                        \n"
          ]
        },
        {
          "output_type": "stream",
          "name": "stdout",
          "text": [
            "Train PSNR: 28.051\n",
            "Val PSNR: 28.320\n",
            "Epoch 61 of 100\n"
          ]
        },
        {
          "output_type": "stream",
          "name": "stderr",
          "text": [
            "256it [02:42,  1.57it/s]\n",
            "86it [00:17,  4.90it/s]                        \n"
          ]
        },
        {
          "output_type": "stream",
          "name": "stdout",
          "text": [
            "Train PSNR: 28.040\n",
            "Val PSNR: 28.378\n",
            "Epoch 62 of 100\n"
          ]
        },
        {
          "output_type": "stream",
          "name": "stderr",
          "text": [
            "256it [02:42,  1.57it/s]\n",
            "86it [00:17,  4.96it/s]                        \n"
          ]
        },
        {
          "output_type": "stream",
          "name": "stdout",
          "text": [
            "Train PSNR: 28.091\n",
            "Val PSNR: 28.467\n",
            "Epoch 63 of 100\n"
          ]
        },
        {
          "output_type": "stream",
          "name": "stderr",
          "text": [
            "256it [02:41,  1.58it/s]\n",
            "86it [00:17,  4.89it/s]                        \n"
          ]
        },
        {
          "output_type": "stream",
          "name": "stdout",
          "text": [
            "Train PSNR: 28.099\n",
            "Val PSNR: 28.379\n",
            "Epoch 64 of 100\n"
          ]
        },
        {
          "output_type": "stream",
          "name": "stderr",
          "text": [
            "256it [02:42,  1.58it/s]\n",
            "86it [00:17,  4.90it/s]                        \n"
          ]
        },
        {
          "output_type": "stream",
          "name": "stdout",
          "text": [
            "Train PSNR: 28.106\n",
            "Val PSNR: 28.465\n",
            "Epoch 65 of 100\n"
          ]
        },
        {
          "output_type": "stream",
          "name": "stderr",
          "text": [
            "256it [02:42,  1.57it/s]\n",
            "86it [00:17,  4.94it/s]                        \n"
          ]
        },
        {
          "output_type": "stream",
          "name": "stdout",
          "text": [
            "Train PSNR: 28.130\n",
            "Val PSNR: 28.483\n",
            "Epoch 66 of 100\n"
          ]
        },
        {
          "output_type": "stream",
          "name": "stderr",
          "text": [
            "256it [02:42,  1.58it/s]\n",
            "86it [00:17,  4.95it/s]                        \n"
          ]
        },
        {
          "output_type": "stream",
          "name": "stdout",
          "text": [
            "Train PSNR: 28.139\n",
            "Val PSNR: 28.519\n",
            "Epoch 67 of 100\n"
          ]
        },
        {
          "output_type": "stream",
          "name": "stderr",
          "text": [
            "256it [02:40,  1.59it/s]\n",
            "86it [00:17,  4.96it/s]                        \n"
          ]
        },
        {
          "output_type": "stream",
          "name": "stdout",
          "text": [
            "Train PSNR: 28.131\n",
            "Val PSNR: 28.463\n",
            "Epoch 68 of 100\n"
          ]
        },
        {
          "output_type": "stream",
          "name": "stderr",
          "text": [
            "256it [02:40,  1.59it/s]\n",
            "86it [00:17,  4.89it/s]                        \n"
          ]
        },
        {
          "output_type": "stream",
          "name": "stdout",
          "text": [
            "Train PSNR: 28.058\n",
            "Val PSNR: 28.477\n",
            "Epoch 69 of 100\n"
          ]
        },
        {
          "output_type": "stream",
          "name": "stderr",
          "text": [
            "256it [02:41,  1.59it/s]\n",
            "86it [00:17,  4.98it/s]                        \n"
          ]
        },
        {
          "output_type": "stream",
          "name": "stdout",
          "text": [
            "Train PSNR: 28.142\n",
            "Val PSNR: 28.434\n",
            "Epoch 70 of 100\n"
          ]
        },
        {
          "output_type": "stream",
          "name": "stderr",
          "text": [
            "256it [02:41,  1.58it/s]\n",
            "86it [00:17,  4.91it/s]                        \n"
          ]
        },
        {
          "output_type": "stream",
          "name": "stdout",
          "text": [
            "Train PSNR: 28.160\n",
            "Val PSNR: 28.513\n",
            "Epoch 71 of 100\n"
          ]
        },
        {
          "output_type": "stream",
          "name": "stderr",
          "text": [
            "256it [02:41,  1.58it/s]\n",
            "86it [00:17,  4.90it/s]                        \n"
          ]
        },
        {
          "output_type": "stream",
          "name": "stdout",
          "text": [
            "Train PSNR: 28.171\n",
            "Val PSNR: 28.543\n",
            "Epoch 72 of 100\n"
          ]
        },
        {
          "output_type": "stream",
          "name": "stderr",
          "text": [
            "256it [02:41,  1.59it/s]\n",
            "86it [00:17,  4.88it/s]                        \n"
          ]
        },
        {
          "output_type": "stream",
          "name": "stdout",
          "text": [
            "Train PSNR: 28.152\n",
            "Val PSNR: 28.481\n",
            "Epoch 73 of 100\n"
          ]
        },
        {
          "output_type": "stream",
          "name": "stderr",
          "text": [
            "256it [02:41,  1.59it/s]\n",
            "86it [00:17,  4.92it/s]                        \n"
          ]
        },
        {
          "output_type": "stream",
          "name": "stdout",
          "text": [
            "Train PSNR: 28.146\n",
            "Val PSNR: 28.505\n",
            "Epoch 74 of 100\n"
          ]
        },
        {
          "output_type": "stream",
          "name": "stderr",
          "text": [
            "256it [02:42,  1.57it/s]\n",
            "86it [00:17,  4.89it/s]                        \n"
          ]
        },
        {
          "output_type": "stream",
          "name": "stdout",
          "text": [
            "Train PSNR: 28.090\n",
            "Val PSNR: 28.447\n",
            "Epoch 75 of 100\n"
          ]
        },
        {
          "output_type": "stream",
          "name": "stderr",
          "text": [
            "256it [02:44,  1.56it/s]\n",
            "86it [00:17,  4.87it/s]                        \n"
          ]
        },
        {
          "output_type": "stream",
          "name": "stdout",
          "text": [
            "Train PSNR: 28.181\n",
            "Val PSNR: 28.481\n",
            "Epoch 76 of 100\n"
          ]
        },
        {
          "output_type": "stream",
          "name": "stderr",
          "text": [
            "256it [02:42,  1.58it/s]\n",
            "86it [00:17,  4.93it/s]                        \n"
          ]
        },
        {
          "output_type": "stream",
          "name": "stdout",
          "text": [
            "Train PSNR: 28.172\n",
            "Val PSNR: 28.489\n",
            "Epoch 77 of 100\n"
          ]
        },
        {
          "output_type": "stream",
          "name": "stderr",
          "text": [
            "256it [02:42,  1.58it/s]\n",
            "86it [00:17,  4.91it/s]                        \n"
          ]
        },
        {
          "output_type": "stream",
          "name": "stdout",
          "text": [
            "Train PSNR: 28.215\n",
            "Val PSNR: 28.524\n",
            "Epoch 78 of 100\n"
          ]
        },
        {
          "output_type": "stream",
          "name": "stderr",
          "text": [
            "256it [02:43,  1.57it/s]\n",
            "86it [00:17,  4.90it/s]                        \n"
          ]
        },
        {
          "output_type": "stream",
          "name": "stdout",
          "text": [
            "Train PSNR: 28.208\n",
            "Val PSNR: 28.559\n",
            "Epoch 79 of 100\n"
          ]
        },
        {
          "output_type": "stream",
          "name": "stderr",
          "text": [
            "256it [02:43,  1.57it/s]\n",
            "86it [00:17,  4.90it/s]                        \n"
          ]
        },
        {
          "output_type": "stream",
          "name": "stdout",
          "text": [
            "Train PSNR: 28.119\n",
            "Val PSNR: 28.528\n",
            "Epoch 80 of 100\n"
          ]
        },
        {
          "output_type": "stream",
          "name": "stderr",
          "text": [
            "256it [02:42,  1.58it/s]\n",
            "86it [00:17,  4.92it/s]                        \n"
          ]
        },
        {
          "output_type": "stream",
          "name": "stdout",
          "text": [
            "Train PSNR: 28.240\n",
            "Val PSNR: 28.367\n",
            "Epoch 81 of 100\n"
          ]
        },
        {
          "output_type": "stream",
          "name": "stderr",
          "text": [
            "256it [02:43,  1.57it/s]\n",
            "86it [00:18,  4.74it/s]                        \n"
          ]
        },
        {
          "output_type": "stream",
          "name": "stdout",
          "text": [
            "Train PSNR: 28.193\n",
            "Val PSNR: 28.444\n",
            "Epoch 82 of 100\n"
          ]
        },
        {
          "output_type": "stream",
          "name": "stderr",
          "text": [
            "256it [02:44,  1.55it/s]\n",
            "86it [00:17,  4.90it/s]                        \n"
          ]
        },
        {
          "output_type": "stream",
          "name": "stdout",
          "text": [
            "Train PSNR: 28.131\n",
            "Val PSNR: 28.382\n",
            "Epoch 83 of 100\n"
          ]
        },
        {
          "output_type": "stream",
          "name": "stderr",
          "text": [
            "256it [02:44,  1.56it/s]\n",
            "86it [00:17,  4.91it/s]                        \n"
          ]
        },
        {
          "output_type": "stream",
          "name": "stdout",
          "text": [
            "Train PSNR: 28.211\n",
            "Val PSNR: 28.502\n",
            "Epoch 84 of 100\n"
          ]
        },
        {
          "output_type": "stream",
          "name": "stderr",
          "text": [
            "256it [02:42,  1.57it/s]\n",
            "86it [00:17,  4.88it/s]                        \n"
          ]
        },
        {
          "output_type": "stream",
          "name": "stdout",
          "text": [
            "Train PSNR: 28.208\n",
            "Val PSNR: 28.558\n",
            "Epoch 85 of 100\n"
          ]
        },
        {
          "output_type": "stream",
          "name": "stderr",
          "text": [
            "256it [02:42,  1.58it/s]\n",
            "86it [00:17,  4.90it/s]                        \n"
          ]
        },
        {
          "output_type": "stream",
          "name": "stdout",
          "text": [
            "Train PSNR: 28.232\n",
            "Val PSNR: 28.551\n",
            "Epoch 86 of 100\n"
          ]
        },
        {
          "output_type": "stream",
          "name": "stderr",
          "text": [
            "256it [02:42,  1.57it/s]\n",
            "86it [00:17,  4.90it/s]                        \n"
          ]
        },
        {
          "output_type": "stream",
          "name": "stdout",
          "text": [
            "Train PSNR: 28.227\n",
            "Val PSNR: 28.594\n",
            "Epoch 87 of 100\n"
          ]
        },
        {
          "output_type": "stream",
          "name": "stderr",
          "text": [
            "256it [02:44,  1.56it/s]\n",
            "86it [00:17,  4.80it/s]                        \n"
          ]
        },
        {
          "output_type": "stream",
          "name": "stdout",
          "text": [
            "Train PSNR: 28.203\n",
            "Val PSNR: 28.448\n",
            "Epoch 88 of 100\n"
          ]
        },
        {
          "output_type": "stream",
          "name": "stderr",
          "text": [
            "256it [02:42,  1.57it/s]\n",
            "86it [00:17,  4.91it/s]                        \n"
          ]
        },
        {
          "output_type": "stream",
          "name": "stdout",
          "text": [
            "Train PSNR: 28.240\n",
            "Val PSNR: 28.573\n",
            "Epoch 89 of 100\n"
          ]
        },
        {
          "output_type": "stream",
          "name": "stderr",
          "text": [
            "256it [02:42,  1.58it/s]\n",
            "86it [00:17,  4.94it/s]                        \n"
          ]
        },
        {
          "output_type": "stream",
          "name": "stdout",
          "text": [
            "Train PSNR: 27.964\n",
            "Val PSNR: 28.354\n",
            "Epoch 90 of 100\n"
          ]
        },
        {
          "output_type": "stream",
          "name": "stderr",
          "text": [
            "256it [02:43,  1.57it/s]\n",
            "86it [00:17,  4.90it/s]                        \n"
          ]
        },
        {
          "output_type": "stream",
          "name": "stdout",
          "text": [
            "Train PSNR: 28.159\n",
            "Val PSNR: 28.463\n",
            "Epoch 91 of 100\n"
          ]
        },
        {
          "output_type": "stream",
          "name": "stderr",
          "text": [
            "256it [02:43,  1.57it/s]\n",
            "86it [00:17,  4.93it/s]                        \n"
          ]
        },
        {
          "output_type": "stream",
          "name": "stdout",
          "text": [
            "Train PSNR: 28.221\n",
            "Val PSNR: 28.565\n",
            "Epoch 92 of 100\n"
          ]
        },
        {
          "output_type": "stream",
          "name": "stderr",
          "text": [
            "256it [02:44,  1.55it/s]\n",
            "86it [00:17,  4.86it/s]                        \n"
          ]
        },
        {
          "output_type": "stream",
          "name": "stdout",
          "text": [
            "Train PSNR: 28.221\n",
            "Val PSNR: 28.528\n",
            "Epoch 93 of 100\n"
          ]
        },
        {
          "output_type": "stream",
          "name": "stderr",
          "text": [
            "256it [02:43,  1.57it/s]\n",
            "86it [00:17,  4.87it/s]                        \n"
          ]
        },
        {
          "output_type": "stream",
          "name": "stdout",
          "text": [
            "Train PSNR: 28.255\n",
            "Val PSNR: 28.603\n",
            "Epoch 94 of 100\n"
          ]
        },
        {
          "output_type": "stream",
          "name": "stderr",
          "text": [
            "256it [02:47,  1.53it/s]\n",
            "86it [00:18,  4.77it/s]                        \n"
          ]
        },
        {
          "output_type": "stream",
          "name": "stdout",
          "text": [
            "Train PSNR: 28.206\n",
            "Val PSNR: 28.474\n",
            "Epoch 95 of 100\n"
          ]
        },
        {
          "output_type": "stream",
          "name": "stderr",
          "text": [
            "256it [02:48,  1.52it/s]\n",
            "86it [00:18,  4.71it/s]                        \n"
          ]
        },
        {
          "output_type": "stream",
          "name": "stdout",
          "text": [
            "Train PSNR: 28.253\n",
            "Val PSNR: 28.522\n",
            "Epoch 96 of 100\n"
          ]
        },
        {
          "output_type": "stream",
          "name": "stderr",
          "text": [
            "256it [02:46,  1.54it/s]\n",
            "86it [00:17,  4.86it/s]                        \n"
          ]
        },
        {
          "output_type": "stream",
          "name": "stdout",
          "text": [
            "Train PSNR: 28.257\n",
            "Val PSNR: 28.553\n",
            "Epoch 97 of 100\n"
          ]
        },
        {
          "output_type": "stream",
          "name": "stderr",
          "text": [
            "256it [02:47,  1.53it/s]\n",
            "86it [00:18,  4.71it/s]                        \n"
          ]
        },
        {
          "output_type": "stream",
          "name": "stdout",
          "text": [
            "Train PSNR: 28.138\n",
            "Val PSNR: 28.490\n",
            "Epoch 98 of 100\n"
          ]
        },
        {
          "output_type": "stream",
          "name": "stderr",
          "text": [
            "256it [02:46,  1.54it/s]\n",
            "86it [00:17,  4.86it/s]                        \n"
          ]
        },
        {
          "output_type": "stream",
          "name": "stdout",
          "text": [
            "Train PSNR: 28.273\n",
            "Val PSNR: 28.579\n",
            "Epoch 99 of 100\n"
          ]
        },
        {
          "output_type": "stream",
          "name": "stderr",
          "text": [
            "256it [02:49,  1.51it/s]\n",
            "86it [00:18,  4.75it/s]                        \n"
          ]
        },
        {
          "output_type": "stream",
          "name": "stdout",
          "text": [
            "Train PSNR: 28.198\n",
            "Val PSNR: 28.280\n",
            "Epoch 100 of 100\n"
          ]
        },
        {
          "output_type": "stream",
          "name": "stderr",
          "text": [
            "256it [02:47,  1.53it/s]\n",
            "86it [00:17,  4.82it/s]                        "
          ]
        },
        {
          "output_type": "stream",
          "name": "stdout",
          "text": [
            "Train PSNR: 28.250\n",
            "Val PSNR: 28.582\n",
            "Finished training in: 299.633 minutes\n"
          ]
        },
        {
          "output_type": "stream",
          "name": "stderr",
          "text": [
            "\n"
          ]
        }
      ]
    },
    {
      "cell_type": "code",
      "source": [
        "#saving\n",
        "plt.figure(figsize=(10, 7))\n",
        "plt.plot(train_loss, color='orange', label='train loss')\n",
        "plt.plot(val_loss, color='red', label='validataion loss')\n",
        "plt.xlabel('Epochs')\n",
        "plt.ylabel('Loss')\n",
        "plt.legend()\n",
        "plt.savefig('/content/outputs/loss.png')\n",
        "plt.show()\n",
        "# psnr plots\n",
        "plt.figure(figsize=(10, 7))\n",
        "plt.plot(train_psnr, color='green', label='train PSNR dB')\n",
        "plt.plot(val_psnr, color='blue', label='validataion PSNR dB')\n",
        "plt.xlabel('Epochs')\n",
        "plt.ylabel('PSNR (dB)')\n",
        "plt.legend()\n",
        "plt.savefig('/content/outputs/psnr.png')\n",
        "plt.show()\n",
        "#torch.save(model, 'srcnn.pkl')\n",
        "# save the model to disk\n",
        "print('Saving model...')\n",
        "torch.save(model.state_dict(), '/content/outputs/model2.pth')"
      ],
      "metadata": {
        "id": "EgfQcVX__bMC",
        "colab": {
          "base_uri": "https://localhost:8080/",
          "height": 902
        },
        "outputId": "148fa962-bfee-44a8-ac91-73cb9fc9ddd4"
      },
      "execution_count": null,
      "outputs": [
        {
          "output_type": "display_data",
          "data": {
            "image/png": "[encoded data removed]",
            "text/plain": [
              "<Figure size 720x504 with 1 Axes>"
            ]
          },
          "metadata": {}
        },
        {
          "output_type": "display_data",
          "data": {
            "image/png": "[encoded data removed]",
            "text/plain": [
              "<Figure size 720x504 with 1 Axes>"
            ]
          },
          "metadata": {}
        },
        {
          "output_type": "stream",
          "name": "stdout",
          "text": [
            "Saving model...\n"
          ]
        }
      ]
    },
    {
      "cell_type": "code",
      "source": [
        "import torch\n",
        "import cv2\n",
        "#import srcnn\n",
        "import numpy as np\n",
        "import glob as glob\n",
        "import os\n",
        "from torchvision.utils import save_image"
      ],
      "metadata": {
        "id": "aDUpwyor_iBo"
      },
      "execution_count": null,
      "outputs": []
    },
    {
      "cell_type": "code",
      "source": [
        "device = 'cuda' if torch.cuda.is_available() else 'cpu'"
      ],
      "metadata": {
        "id": "VjysMbmA_kFg"
      },
      "execution_count": null,
      "outputs": []
    },
    {
      "cell_type": "code",
      "source": [
        "model = SRCNN().to(device)\n",
        "model.load_state_dict(torch.load('../outputs/model.pth'))"
      ],
      "metadata": {
        "id": "CgT3W3eu_xLa"
      },
      "execution_count": null,
      "outputs": []
    },
    {
      "cell_type": "code",
      "source": [
        "from google.colab.patches import cv2_imshow\n",
        "image_paths = glob.glob('/content/drive/MyDrive/input/bicubic_2x/*')\n",
        "for image_path in image_paths:\n",
        "    outp=[]\n",
        "    image = cv2.imread(image_path, cv2.IMREAD_COLOR)\n",
        "    test_image_name = image_path.split(os.path.sep)[-1].split('.')[0]\n",
        "    cv2.imwrite(f\"/content/outputs/test_{test_image_name}.png\", image)\n",
        "    for i in range(3):\n",
        "        im = image[:,:,i]\n",
        "        im = im.reshape(im.shape[0], im.shape[1], 1)\n",
        "        im = im / 255.\n",
        "        cv2_imshow(im)\n",
        "        model.eval()\n",
        "        with torch.no_grad():\n",
        "            im = np.transpose(im, (2, 0, 1)).astype(np.float32)\n",
        "            im = torch.tensor(im, dtype=torch.float).to(device)\n",
        "            im = im.unsqueeze(0)\n",
        "            outputs = model(im)\n",
        "            outputs = outputs.cpu()\n",
        "            outputs = outputs.detach().numpy()\n",
        "            outputs = outputs.reshape(outputs.shape[2], outputs.shape[3], outputs.shape[1])\n",
        "            outp.append(outputs)\n",
        "    res = np.concatenate((outp[0], outp[1], outp[2]), axis=2)\n",
        "    cv2.imwrite(f\"/content/outputs/output_{test_image_name}.png\", res*255)\n",
        "    cv2_imshow(res)"
      ],
      "metadata": {
        "id": "prlbwpUu_znz",
        "colab": {
          "base_uri": "https://localhost:8080/",
          "height": 1000
        },
        "outputId": "55e8034b-41f1-425b-a3b9-e6de7bc815ac"
      },
      "execution_count": null,
      "outputs": [
        {
          "output_type": "display_data",
          "data": {
            "image/png": "[encoded data removed]",
            "text/plain": [
              "<PIL.Image.Image image mode=RGB size=504x504 at 0x7F8C09B10590>"
            ]
          },
          "metadata": {}
        },
        {
          "output_type": "display_data",
          "data": {
            "image/png": "[encoded data removed]",
            "text/plain": [
              "<PIL.Image.Image image mode=RGB size=504x504 at 0x7F8BFFEEC750>"
            ]
          },
          "metadata": {}
        },
        {
          "output_type": "display_data",
          "data": {
            "image/png": "[encoded data removed]",
            "text/plain": [
              "<PIL.Image.Image image mode=RGB size=504x504 at 0x7F8BFFEEC750>"
            ]
          },
          "metadata": {}
        },
        {
          "output_type": "display_data",
          "data": {
            "image/png": "[encoded data removed]",
            "text/plain": [
              "<PIL.Image.Image image mode=RGB size=504x504 at 0x7F8BFFEEC790>"
            ]
          },
          "metadata": {}
        },
        {
          "output_type": "display_data",
          "data": {
            "image/png": "[encoded data removed]",
            "text/plain": [
              "<PIL.Image.Image image mode=RGB size=288x288 at 0x7F8BFFEEC750>"
            ]
          },
          "metadata": {}
        },
        {
          "output_type": "display_data",
          "data": {
            "image/png": "[encoded data removed]",
            "text/plain": [
              "<PIL.Image.Image image mode=RGB size=288x288 at 0x7F8C09A25350>"
            ]
          },
          "metadata": {}
        },
        {
          "output_type": "display_data",
          "data": {
            "image/png": "[encoded data removed]",
            "text/plain": [
              "<PIL.Image.Image image mode=RGB size=288x288 at 0x7F8C00793DD0>"
            ]
          },
          "metadata": {}
        },
        {
          "output_type": "display_data",
          "data": {
            "image/png": "[encoded data removed]",
            "text/plain": [
              "<PIL.Image.Image image mode=RGB size=288x288 at 0x7F8BFFEEC790>"
            ]
          },
          "metadata": {}
        },
        {
          "output_type": "display_data",
          "data": {
            "image/png": "[encoded data removed]",
            "text/plain": [
              "<PIL.Image.Image image mode=RGB size=252x252 at 0x7F8C00793DD0>"
            ]
          },
          "metadata": {}
        },
        {
          "output_type": "display_data",
          "data": {
            "image/png": "[encoded data removed]",
            "text/plain": [
              "<PIL.Image.Image image mode=RGB size=252x252 at 0x7F8C09B0C1D0>"
            ]
          },
          "metadata": {}
        },
        {
          "output_type": "display_data",
          "data": {
            "image/png": "[encoded data removed]",
            "text/plain": [
              "<PIL.Image.Image image mode=RGB size=252x252 at 0x7F8C0078D610>"
            ]
          },
          "metadata": {}
        },
        {
          "output_type": "display_data",
          "data": {
            "image/png": "[encoded data removed]",
            "text/plain": [
              "<PIL.Image.Image image mode=RGB size=252x252 at 0x7F8C0078DAD0>"
            ]
          },
          "metadata": {}
        },
        {
          "output_type": "display_data",
          "data": {
            "image/png": "[encoded data removed]",
            "text/plain": [
              "<PIL.Image.Image image mode=RGB size=276x276 at 0x7F8C0078D810>"
            ]
          },
          "metadata": {}
        },
        {
          "output_type": "display_data",
          "data": {
            "image/png": "[encoded data removed]",
            "text/plain": [
              "<PIL.Image.Image image mode=RGB size=276x276 at 0x7F8C0078D610>"
            ]
          },
          "metadata": {}
        },
        {
          "output_type": "display_data",
          "data": {
            "image/png": "[encoded data removed]",
            "text/plain": [
              "<PIL.Image.Image image mode=RGB size=276x276 at 0x7F8C09ACCE10>"
            ]
          },
          "metadata": {}
        },
        {
          "output_type": "display_data",
          "data": {
            "image/png": "[encoded data removed]",
            "text/plain": [
              "<PIL.Image.Image image mode=RGB size=276x276 at 0x7F8C00793DD0>"
            ]
          },
          "metadata": {}
        },
        {
          "output_type": "display_data",
          "data": {
            "image/png": "[encoded data removed]",
            "text/plain": [
              "<PIL.Image.Image image mode=RGB size=228x336 at 0x7F8C09A25350>"
            ]
          },
          "metadata": {}
        },
        {
          "output_type": "display_data",
          "data": {
            "image/png": "[encoded data removed]",
            "text/plain": [
              "<PIL.Image.Image image mode=RGB size=228x336 at 0x7F8BFFEF1CD0>"
            ]
          },
          "metadata": {}
        },
        {
          "output_type": "display_data",
          "data": {
            "image/png": "[encoded data removed]",
            "text/plain": [
              "<PIL.Image.Image image mode=RGB size=228x336 at 0x7F8C09A25350>"
            ]
          },
          "metadata": {}
        },
        {
          "output_type": "display_data",
          "data": {
            "image/png": "[encoded data removed]",
            "text/plain": [
              "<PIL.Image.Image image mode=RGB size=228x336 at 0x7F8BFFEEC790>"
            ]
          },
          "metadata": {}
        }
      ]
    }
  ]
}